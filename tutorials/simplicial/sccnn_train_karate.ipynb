{
 "cells": [
  {
   "attachments": {},
   "cell_type": "markdown",
   "metadata": {},
   "source": [
    "# Train a SCCNN\n",
    "\n",
    "In this notebook, we will create and train a convolutional neural network in the simplicial complex domain, as proposed in the paper by [Yang et. al : Convolutional Learning on Simplicial Complexes (2023)](https://arxiv.org/abs/2301.11163). \n",
    "\n",
    "We train the model to perform complex classification using the shrec16 benchmark dataset. \n",
    "\n",
    "## Simplicial Complex Convolutional Neural Networks <a href=\"https://arxiv.org/pdf/2301.11163.pdf\">[SCCNN]</a>\n",
    "\n",
    "SCCNN extends the SCNN to the complex domain by accounting for inter-simplicial connections, i.e., contributions from simplices of adjacent orders. \n",
    "\n",
    "For example, we consider SCCNN layers in an SC of order two. At layer $t$, given the inputs on nodes, edges and faces, $\\mathbf{h}_{t}^0,\\mathbf{h}_{t}^1$ and $\\mathbf{h}_{t}^2$, the SCCNN layer contains the following\n",
    "$$\n",
    "    \\mathbf{h}_{t+1}^1 = \\sigma \\bigg[ \\mathbf{F}_{t,\\downarrow} \\mathbf{B}_{1}^\\top \\mathbf{h}_{t}^{0} + \\mathbf{F}_{t} \\mathbf{h}_t^1 + \\mathbf{F}_{t,\\uparrow} \\mathbf{B}_{2}  \\mathbf{h}_t^{2} \\bigg] \n",
    "$$\n",
    "where $\\mathbf{F}_t$ is the simplicial convolutional filter defined in the edge space, and $\\mathbf{F}_{t,\\downarrow}$ and $\\mathbf{F}_{t,\\uparrow}$ are the convolutional filters based on, respectively, only the lower and upper Laplacians. They are given by \n",
    "$$\n",
    "    \\mathbf{F}_{t} = {\\theta}_t + \\sum_{p_d=1}^{P_d} {\\theta}_{t,p_d} (\\mathbf{L}_{\\downarrow,1})^{p_d}  + \\sum_{p_u=1}^{P_u} {\\theta}_{t,p_u}  (\\mathbf{L}_{\\uparrow,1})^{p_u} \n",
    "$$\n",
    "$$\n",
    "    \\mathbf{F}_{t,\\downarrow} = {\\theta}_t + \\sum_{p_d=1}^{P_d} {\\theta}_{t,p_d} (\\mathbf{L}_{\\downarrow,1})^{p_d}  \n",
    "    \\text{ and } \n",
    "    \\mathbf{F}_{t,\\uparrow} = {\\theta}_t + \\sum_{p_u=1}^{P_u} {\\theta}_{t,p_u}  (\\mathbf{L}_{\\uparrow,1})^{p_u} \n",
    "$$\n",
    "\n",
    "Likewise, for the node output, we have \n",
    "$$\n",
    "    \\mathbf{h}_{t+1}^0 = \\sigma \\bigg[ \\mathbf{F}_{t} \\mathbf{h}_t^0 + \\mathbf{F}_{t,\\uparrow} \\mathbf{B}_{1}  \\mathbf{h}_t^{1} \\bigg]\n",
    "$$\n",
    "where $\\mathbf{F}_t$ and $\\mathbf{F}_{t,\\uparrow}$ are two graph filters essentially. \n",
    "\n",
    "For the face output, we have \n",
    "$$\n",
    "    \\mathbf{h}_{t+1}^2 = \\sigma \\bigg[ \\mathbf{F}_{t} \\mathbf{h}_{t}^{2}  + \\mathbf{F}_{t,\\downarrow} \\mathbf{B}_{2}^\\top  \\mathbf{h}_t^{1} \\bigg]\n",
    "$$\n",
    "where $\\mathbf{F}_t$ and $\\mathbf{F}_{t,\\downarrow}$ are two simplicial filters defined in the triangle (face) space. "
   ]
  },
  {
   "cell_type": "code",
   "execution_count": 135,
   "metadata": {},
   "outputs": [],
   "source": [
    "import torch\n",
    "import numpy as np\n",
    "\n",
    "from toponetx import SimplicialComplex\n",
    "import toponetx.datasets.graph as graph\n",
    "\n",
    "from topomodelx.nn.simplicial.sccnn_layer import SCCNNLayer"
   ]
  },
  {
   "cell_type": "markdown",
   "metadata": {},
   "source": [
    "# Pre-processing\n",
    "\n",
    "## Import dataset ##\n",
    "\n",
    "The first step is to import the Karate Club (https://www.jstor.org/stable/3629752) dataset. This is a singular graph with 34 nodes that belong to two different social groups. We will use these groups for the task of node-level binary classification.\n",
    "\n",
    "We must first lift our graph dataset into the simplicial complex domain."
   ]
  },
  {
   "cell_type": "code",
   "execution_count": 136,
   "metadata": {},
   "outputs": [
    {
     "name": "stdout",
     "output_type": "stream",
     "text": [
      "Simplicial Complex with shape (34, 78, 45, 11, 2) and dimension 4\n",
      "4\n"
     ]
    }
   ],
   "source": [
    "dataset = graph.karate_club(complex_type=\"simplicial\")\n",
    "print(dataset)\n",
    "max_rank = dataset.dim\n",
    "print(max_rank)"
   ]
  },
  {
   "attachments": {},
   "cell_type": "markdown",
   "metadata": {},
   "source": [
    "### Define Neighborhood Strctures\n",
    "Get incidence matrices $\\mathbf{B}_1,\\mathbf{B}_2$ and Hodge Laplacians $\\mathbf{L}_0, \\mathbf{L}_1$ and $\\mathbf{L}_2$.\n",
    "\n",
    "Note that the original paper considered the weighted versions of these operators. However, the current TOPONETX package does not provide such feature yet."
   ]
  },
  {
   "cell_type": "code",
   "execution_count": 137,
   "metadata": {},
   "outputs": [
    {
     "name": "stdout",
     "output_type": "stream",
     "text": [
      "The incidence matrix B1 has shape: (34, 78).\n",
      "The incidence matrix B2 has shape: (78, 45).\n"
     ]
    }
   ],
   "source": [
    "incidence_1 = dataset.incidence_matrix(rank=1)\n",
    "incidence_2 = dataset.incidence_matrix(rank=2)\n",
    "\n",
    "print(f\"The incidence matrix B1 has shape: {incidence_1.shape}.\")\n",
    "print(f\"The incidence matrix B2 has shape: {incidence_2.shape}.\")"
   ]
  },
  {
   "cell_type": "code",
   "execution_count": 138,
   "metadata": {},
   "outputs": [],
   "source": [
    "laplacian_0  = dataset.hodge_laplacian_matrix(rank=0,weight=True)\n",
    "laplacian_down_1 = dataset.down_laplacian_matrix(rank=1,weight=True)\n",
    "laplacian_up_1 = dataset.up_laplacian_matrix(rank=1,weight=True)\n",
    "laplacian_down_2 = dataset.down_laplacian_matrix(rank=2,weight=True)\n",
    "laplacian_up_2 = dataset.up_laplacian_matrix(rank=2,weight=True)\n",
    "\n",
    "laplacian_0  = dataset.adjacency_matrix(rank=0,weight=True)\n",
    "laplacian_down_1 = dataset.coadjacency_matrix(rank=1,weight=True)\n",
    "laplacian_up_1 = dataset.adjacency_matrix(rank=1,weight=True)\n",
    "laplacian_down_2 = dataset.coadjacency_matrix(rank=2,weight=True)\n",
    "laplacian_up_2 = dataset.adjacency_matrix(rank=2,weight=True)"
   ]
  },
  {
   "cell_type": "code",
   "execution_count": 139,
   "metadata": {},
   "outputs": [],
   "source": [
    "\n",
    "laplacian_0 = torch.from_numpy(laplacian_0.todense()).to_sparse()\n",
    "laplacian_down_1 = torch.from_numpy(laplacian_down_1.todense()).to_sparse()\n",
    "laplacian_up_1 = torch.from_numpy(laplacian_up_1.todense()).to_sparse()\n",
    "laplacian_down_2 = torch.from_numpy(laplacian_down_2.todense()).to_sparse()\n",
    "laplacian_up_2 = torch.from_numpy(laplacian_up_2.todense()).to_sparse()\n",
    "\n",
    "incidence_1 = torch.from_numpy(incidence_1.todense()).to_sparse()\n",
    "incidence_2 = torch.from_numpy(incidence_2.todense()).to_sparse()"
   ]
  },
  {
   "cell_type": "markdown",
   "metadata": {},
   "source": [
    "## Import signal ##\n",
    "\n",
    "Since our task will be node classification, we must retrieve an input signal on the nodes. The signal will have shape $n_\\text{nodes} \\times$ in_channels, where in_channels is the dimension of each cell's feature. Here, we have in_channels = channels_nodes $ = 34$. This is because the Karate dataset encodes the identity of each of the 34 nodes as a one hot encoder."
   ]
  },
  {
   "cell_type": "code",
   "execution_count": 140,
   "metadata": {},
   "outputs": [],
   "source": [
    "\"\"\"A function to obtain features based on the input: rank\n",
    "\"\"\"\n",
    "def get_simplicial_features(dataset,rank):\n",
    "    if rank == 0: \n",
    "        which_feat = \"node_feat\"\n",
    "    elif rank == 1:\n",
    "        which_feat = \"edge_feat\"\n",
    "    elif rank == 2:\n",
    "        which_feat = \"face_feat\"\n",
    "    else:\n",
    "        raise ValueError(f\"input dimension must be 0, 1 or 2, because features are supported on nodes, edges and faces\") \n",
    "    \n",
    "    x = []\n",
    "    for _, v in dataset.get_simplex_attributes(which_feat).items():\n",
    "        x.append(v)\n",
    "    \n",
    "    x = torch.tensor(np.stack(x))\n",
    "    return x"
   ]
  },
  {
   "cell_type": "code",
   "execution_count": 141,
   "metadata": {},
   "outputs": [],
   "source": [
    "x_0 = get_simplicial_features(dataset,rank=0)\n",
    "x_1 = get_simplicial_features(dataset,rank=1)\n",
    "x_2 = get_simplicial_features(dataset,rank=2)"
   ]
  },
  {
   "cell_type": "markdown",
   "metadata": {},
   "source": [
    "## Define binary labels\n",
    "We retrieve the labels associated to the nodes of each input simplex. In the KarateClub dataset, two social groups emerge. So we assign binary labels to the nodes indicating of which group they are a part.\n",
    "\n",
    "We convert the binary labels into one-hot encoder form, and keep the first four nodes' true labels for the purpose of testing."
   ]
  },
  {
   "cell_type": "code",
   "execution_count": 142,
   "metadata": {},
   "outputs": [],
   "source": [
    "y = np.array(\n",
    "    [\n",
    "        1,\n",
    "        1,\n",
    "        1,\n",
    "        1,\n",
    "        1,\n",
    "        1,\n",
    "        1,\n",
    "        1,\n",
    "        1,\n",
    "        0,\n",
    "        1,\n",
    "        1,\n",
    "        1,\n",
    "        1,\n",
    "        0,\n",
    "        0,\n",
    "        1,\n",
    "        1,\n",
    "        0,\n",
    "        1,\n",
    "        0,\n",
    "        1,\n",
    "        0,\n",
    "        0,\n",
    "        0,\n",
    "        0,\n",
    "        0,\n",
    "        0,\n",
    "        0,\n",
    "        0,\n",
    "        0,\n",
    "        0,\n",
    "        0,\n",
    "        0,\n",
    "    ]\n",
    ")\n",
    "y_true = np.zeros((34, 2))\n",
    "y_true[:, 0] = y\n",
    "y_true[:, 1] = 1 - y\n",
    "y_test = y_true[-4:]\n",
    "y_train = y_true[:30]\n",
    "\n",
    "y_train = torch.from_numpy(y_train)\n",
    "y_test = torch.from_numpy(y_test)"
   ]
  },
  {
   "attachments": {},
   "cell_type": "markdown",
   "metadata": {},
   "source": [
    "# Create the SCCNN"
   ]
  },
  {
   "cell_type": "code",
   "execution_count": 143,
   "metadata": {},
   "outputs": [],
   "source": [
    "class SCCNN(torch.nn.Module):\n",
    "    \"\"\"SCCNN implementation for complex classification  \n",
    "    Note: In this task, we can consider the output on any order of simplices for the classification task, which of course can be amended by a readout layer.                                        \n",
    "\n",
    "    Parameters\n",
    "    ----------\n",
    "    in_channels_all: tuple of int\n",
    "        Dimension of input features on (nodes, edges, faces)\n",
    "    intermediate_channels_all: tuple of int\n",
    "        Dimension of features of intermediate layers on (nodes, edges, faces)\n",
    "    out_channels_all: tuple of int\n",
    "        Dimension of output features on (nodes, edges, faces)\n",
    "    conv_order: int\n",
    "        Order of convolutions, we consider the same order for all convolutions \n",
    "    sc_order: int\n",
    "        SC order \n",
    "    n_layers: int\n",
    "        Numer of layers \n",
    "\n",
    "    \"\"\"\n",
    "    def __init__(self, \n",
    "                 in_channels_all, \n",
    "                 intermediate_channels_all, \n",
    "                 out_channels_all, \n",
    "                 conv_order, sc_order, \n",
    "                 aggr_norm=False, update_func=None, \n",
    "                 n_layers=2):\n",
    "        super().__init__()\n",
    "        # first layer\n",
    "        # we use an MLP to map the features on simplices of different dimensions to the same dimension   \n",
    "        self.in_linear_0 = torch.nn.Linear(in_channels_all[0],intermediate_channels_all[0])\n",
    "        self.in_linear_1 = torch.nn.Linear(in_channels_all[1],intermediate_channels_all[1])\n",
    "        self.in_linear_2 = torch.nn.Linear(in_channels_all[2],intermediate_channels_all[2])\n",
    "\n",
    "        layers = []\n",
    "        for _ in range(n_layers):\n",
    "            layers.append(\n",
    "                SCCNNLayer(in_channels=intermediate_channels_all,out_channels=out_channels_all,conv_order=conv_order,sc_order=sc_order,aggr_norm=aggr_norm,update_func=update_func)\n",
    "            )\n",
    "    \n",
    "        self.layers = torch.nn.ModuleList(layers)  \n",
    "\n",
    "        out_channels_0, out_channels_1, out_channels_2 = out_channels_all\n",
    "        self.out_linear_0 = torch.nn.Linear(out_channels_0,2)\n",
    "        \n",
    "\n",
    "    def forward(self,x_all,laplacian_all,incidence_all):\n",
    "        \"\"\"Forward computation. \n",
    "        \n",
    "        Parameters\n",
    "        ---------\n",
    "        x: tuple tensors\n",
    "            (node, edge, face) features \n",
    "            each entry shape = [n_simplices, channels]\n",
    "      \n",
    "        laplacian: tuple of tensors\n",
    "            (graph laplacian L0, down edge laplacian L1_d, upper edge laplacian L1_u, face laplacian L2)\n",
    "            each entry shape = [n_simplices,n_simplices]\n",
    "\n",
    "        incidence_1: tuple of tensors\n",
    "            tuple pf order 1 and 2 incidence matrices \n",
    "            shape of B1 = [n_nodes, n_edges]\n",
    "            shape of B2 = [n_edges, n_faces]\n",
    "    \n",
    "        Returns\n",
    "        --------\n",
    "        _ : tensor\n",
    "            shape = [n_nodes, 2]\n",
    "            One-hot labels assigned to nodes.\n",
    "        \"\"\"    \n",
    "        x_0, x_1, x_2 = x_all\n",
    "        in_x_0 = self.in_linear_0(x_0)\n",
    "        in_x_1 = self.in_linear_1(x_1)\n",
    "        in_x_2 = self.in_linear_2(x_2)\n",
    "\n",
    "        # Forward through SCCNN \n",
    "        x_all = (in_x_0,in_x_1,in_x_2)\n",
    "        for layer in self.layers:\n",
    "            x_all = layer(x_all,laplacian_all,incidence_all)\n",
    "        \n",
    "        \"\"\"\n",
    "        We pass the output on the nodes to a linear layer and use that to generate a probability label for nodes\n",
    "        \"\"\"\n",
    "        x_0, _, _ = x_all \n",
    "        logits = self.out_linear_0(x_0)\n",
    "        label = torch.sigmoid(logits)\n",
    "        \n",
    "        return label"
   ]
  },
  {
   "cell_type": "markdown",
   "metadata": {},
   "source": [
    "# Train the Neural Network\n",
    "\n",
    "We specify the model with our pre-made neighborhood structures and specify an optimizer."
   ]
  },
  {
   "cell_type": "code",
   "execution_count": 144,
   "metadata": {},
   "outputs": [],
   "source": [
    "\"\"\"Obtain the initial features on all simplices\"\"\"\n",
    "x_all = (x_0,x_1,x_2)\n",
    "\n",
    "conv_order = 5\n",
    "in_channels_all = (x_0.shape[-1],x_1.shape[-1],x_2.shape[-1])\n",
    "intermediate_channels_all = (4,4,4)\n",
    "out_channels_all = intermediate_channels_all\n",
    "num_layers = 2\n",
    "\n",
    "laplacian_all = (laplacian_0,laplacian_down_1,laplacian_up_1,laplacian_down_2,laplacian_up_2)\n",
    "\n",
    "incidence_all = (incidence_1,incidence_2)\n",
    "\n",
    "model = SCCNN(in_channels_all=in_channels_all,intermediate_channels_all=intermediate_channels_all,out_channels_all=out_channels_all,conv_order=conv_order,sc_order=max_rank,n_layers=num_layers)\n",
    "\n",
    "optimizer = torch.optim.Adam(model.parameters(), lr=0.01)\n"
   ]
  },
  {
   "cell_type": "code",
   "execution_count": 145,
   "metadata": {},
   "outputs": [
    {
     "name": "stdout",
     "output_type": "stream",
     "text": [
      "Epoch: 1 loss: 13.3333 Train_acc: 0.7667\n",
      "Test_acc: 1.0000\n",
      "Epoch: 2 loss: 13.3333 Train_acc: 0.7667\n",
      "Test_acc: 1.0000\n"
     ]
    },
    {
     "name": "stdout",
     "output_type": "stream",
     "text": [
      "Epoch: 3 loss: 13.3333 Train_acc: 0.7667\n",
      "Test_acc: 1.0000\n",
      "Epoch: 4 loss: 13.3333 Train_acc: 0.7667\n",
      "Test_acc: 1.0000\n",
      "Epoch: 5 loss: 13.3333 Train_acc: 0.7667\n",
      "Test_acc: 1.0000\n",
      "Epoch: 6 loss: 13.3333 Train_acc: 0.7667\n",
      "Test_acc: 1.0000\n",
      "Epoch: 7 loss: 13.3333 Train_acc: 0.7667\n",
      "Test_acc: 1.0000\n",
      "Epoch: 8 loss: 13.3333 Train_acc: 0.7667\n",
      "Test_acc: 1.0000\n",
      "Epoch: 9 loss: 13.3333 Train_acc: 0.7667\n",
      "Test_acc: 1.0000\n",
      "Epoch: 10 loss: 13.3333 Train_acc: 0.7667\n",
      "Test_acc: 1.0000\n",
      "Epoch: 11 loss: 13.3333 Train_acc: 0.7667\n",
      "Test_acc: 1.0000\n",
      "Epoch: 12 loss: 13.3333 Train_acc: 0.7667\n",
      "Test_acc: 1.0000\n",
      "Epoch: 13 loss: 13.3333 Train_acc: 0.7667\n",
      "Test_acc: 1.0000\n",
      "Epoch: 14 loss: 13.3333 Train_acc: 0.7667\n",
      "Test_acc: 1.0000\n",
      "Epoch: 15 loss: 13.3333 Train_acc: 0.7667\n",
      "Test_acc: 1.0000\n",
      "Epoch: 16 loss: 13.3333 Train_acc: 0.7667\n",
      "Test_acc: 1.0000\n",
      "Epoch: 17 loss: 13.3333 Train_acc: 0.7667\n",
      "Test_acc: 1.0000\n",
      "Epoch: 18 loss: 13.3333 Train_acc: 0.7667\n",
      "Test_acc: 1.0000\n",
      "Epoch: 19 loss: 13.3333 Train_acc: 0.7667\n",
      "Test_acc: 1.0000\n",
      "Epoch: 20 loss: 13.3333 Train_acc: 0.7667\n",
      "Test_acc: 1.0000\n"
     ]
    }
   ],
   "source": [
    "test_interval = 1\n",
    "num_epochs = 20\n",
    "for epoch_i in range(1, num_epochs + 1):\n",
    "    epoch_loss = []\n",
    "    model.train()\n",
    "    optimizer.zero_grad()\n",
    "    y_hat = model(x_all, laplacian_all, incidence_all)\n",
    "    loss = torch.nn.functional.binary_cross_entropy(\n",
    "        y_hat[: len(y_train)].float(), y_train.float()\n",
    "    )\n",
    "    epoch_loss.append(loss.item())\n",
    "    loss.backward()\n",
    "    optimizer.step()\n",
    "\n",
    "    y_pred = torch.where(y_hat > 0.5, torch.tensor(1), torch.tensor(0))\n",
    "    accuracy = (y_pred[-len(y_train) :] == y_train).all(dim=1).float().mean().item()\n",
    "    print(\n",
    "        f\"Epoch: {epoch_i} loss: {np.mean(epoch_loss):.4f} Train_acc: {accuracy:.4f}\",\n",
    "        flush=True,\n",
    "    )\n",
    "    if epoch_i % test_interval == 0:\n",
    "        with torch.no_grad():\n",
    "            y_hat_test = model(x_all, laplacian_all, incidence_all)\n",
    "            y_pred_test = torch.where(\n",
    "                y_hat_test > 0.5, torch.tensor(1), torch.tensor(0)\n",
    "            )\n",
    "            test_accuracy = (\n",
    "                torch.eq(y_pred_test[-len(y_test) :], y_test)\n",
    "                .all(dim=1)\n",
    "                .float()\n",
    "                .mean()\n",
    "                .item()\n",
    "            )\n",
    "            print(f\"Test_acc: {test_accuracy:.4f}\", flush=True)"
   ]
  },
  {
   "cell_type": "markdown",
   "metadata": {},
   "source": []
  },
  {
   "cell_type": "markdown",
   "metadata": {},
   "source": []
  }
 ],
 "metadata": {
  "kernelspec": {
   "display_name": "Python 3 (ipykernel)",
   "language": "python",
   "name": "python3"
  },
  "language_info": {
   "codemirror_mode": {
    "name": "ipython",
    "version": 3
   },
   "file_extension": ".py",
   "mimetype": "text/x-python",
   "name": "python",
   "nbconvert_exporter": "python",
   "pygments_lexer": "ipython3",
   "version": "3.10.11"
  }
 },
 "nbformat": 4,
 "nbformat_minor": 4
}
